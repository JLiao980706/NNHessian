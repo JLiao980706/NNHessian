{
 "cells": [
  {
   "cell_type": "code",
   "execution_count": 2,
   "id": "04edca4f",
   "metadata": {},
   "outputs": [
    {
     "data": {
      "text/plain": [
       "'NVIDIA GeForce RTX 3090'"
      ]
     },
     "execution_count": 2,
     "metadata": {},
     "output_type": "execute_result"
    }
   ],
   "source": [
    "import torch\n",
    "import torchvision\n",
    "\n",
    "torch.cuda.is_available()\n",
    "device = torch.device(\"cuda:0\" if torch.cuda.is_available() else \"cpu\")\n",
    "torch.cuda.get_device_name(0)"
   ]
  },
  {
   "cell_type": "code",
   "execution_count": 26,
   "id": "a2ce756f",
   "metadata": {},
   "outputs": [],
   "source": [
    "mnist = torchvision.datasets.MNIST('./data/', download=True)\n",
    "\n",
    "mnist_train = [mnist[i] for i in range(50000)]\n",
    "mnist_test = [mnist[i + 50000] for i in range(10000)]"
   ]
  },
  {
   "cell_type": "code",
   "execution_count": 27,
   "id": "c04fb9e3",
   "metadata": {},
   "outputs": [
    {
     "name": "stdout",
     "output_type": "stream",
     "text": [
      "(<PIL.Image.Image image mode=L size=28x28 at 0x24E4CA17A00>, 5)\n",
      "255 0 (28, 28)\n"
     ]
    }
   ],
   "source": [
    "import numpy as np\n",
    "print(mnist[0])\n",
    "img = np.array(mnist[0][0])\n",
    "print(img.max(), img.min(), img.shape)"
   ]
  },
  {
   "cell_type": "code",
   "execution_count": 28,
   "id": "5c0f0a64",
   "metadata": {},
   "outputs": [
    {
     "name": "stdout",
     "output_type": "stream",
     "text": [
      "[4932. 5678. 4968. 5101. 4859. 4506. 4951. 5175. 4842. 4988.]\n",
      "[ 991. 1064.  990. 1030.  983.  915.  967. 1090. 1009.  961.]\n"
     ]
    }
   ],
   "source": [
    "y_counts = np.zeros((10,))\n",
    "for _, y in mnist_train:\n",
    "    y_counts[y] += 1\n",
    "\n",
    "print(y_counts)\n",
    "\n",
    "y_counts = np.zeros((10,))\n",
    "for _, y in mnist_test:\n",
    "    y_counts[y] += 1\n",
    "\n",
    "print(y_counts)"
   ]
  },
  {
   "cell_type": "code",
   "execution_count": 29,
   "id": "7a045980",
   "metadata": {},
   "outputs": [],
   "source": [
    "y_idx_list = [[] for _ in range(10)]\n",
    "for idx, data in enumerate(mnist_train):\n",
    "    y_idx_list[data[1]].append(idx)\n",
    "\n",
    "import json\n",
    "with open('./data/mnist_class_idx.txt', 'w+') as jfile:\n",
    "    json.dump(y_idx_list, jfile)"
   ]
  },
  {
   "cell_type": "code",
   "execution_count": 34,
   "id": "e65649d1",
   "metadata": {},
   "outputs": [],
   "source": [
    "def sample_mnist(num_per_class=100):\n",
    "    Xs = []\n",
    "    Ys = []\n",
    "    with open('./data/mnist_class_idx.txt') as jfile:\n",
    "        indices_list = json.load(jfile)\n",
    "    for class_idx in range(len(indices_list)):\n",
    "        X = np.zeros((num_per_class, 28, 28))\n",
    "        Y = np.zeros((num_per_class,))\n",
    "        sample_indices = np.random.choice(indices_list[class_idx], size=num_per_class, replace=False)\n",
    "        for X_idx, sample_idx in enumerate(sample_indices):\n",
    "            cur_X, cur_Y = mnist_train[sample_idx]\n",
    "            X[X_idx] = np.array(cur_X)\n",
    "            Y[X_idx] = cur_Y\n",
    "        Xs.append(X)\n",
    "        Ys.append(Y)\n",
    "    X_raw = np.concatenate(Xs, axis=0)\n",
    "    Y_raw = np.concatenate(Ys, axis=0)\n",
    "    idx_arr = np.arange(X_raw.shape[0])\n",
    "    np.random.shuffle(idx_arr)\n",
    "    return X_raw[idx_arr], Y_raw[idx_arr]"
   ]
  },
  {
   "cell_type": "code",
   "execution_count": 35,
   "id": "0de19ac3",
   "metadata": {},
   "outputs": [
    {
     "name": "stdout",
     "output_type": "stream",
     "text": [
      "[[  0.   0.   0.   0.   0.   0.   0.   0.   0.   0.   0.   0.   0.   0.\n",
      "    0.   0.   0.   0.   0.   0.   0.   0.   0.   0.   0.   0.   0.   0.]\n",
      " [  0.   0.   0.   0.   0.   0.   0.   0.   0.   0.   0.   0.   0.   0.\n",
      "    0.   0.   0.   0.   0.   0.   0.   0.   0.   0.   0.   0.   0.   0.]\n",
      " [  0.   0.   0.   0.   0.   0.   0.   0.   0.   0.   0.   0.   0.   0.\n",
      "    0.   0.   0.   0.   0.   0.   0.   0.   0.   0.   0.   0.   0.   0.]\n",
      " [  0.   0.   0.   0.   0.   0.   0.   0.   0.   0.   0.   0.   0.   0.\n",
      "    0.   0.   0.   0.   0.   0.   0.   0.   0.   0.   0.   0.   0.   0.]\n",
      " [  0.   0.   0.   0.   0.   0.   0.   0.   0.   0.   0.   0.   2.  31.\n",
      "  130. 222. 255. 255. 215.  86.   0.   0.   0.   0.   0.   0.   0.   0.]\n",
      " [  0.   0.   0.   0.   0.   0.   0.   0.   0.   0.   2.  92. 156. 253.\n",
      "  253. 253. 253. 253. 253. 213.  87.   0.   0.   0.   0.   0.   0.   0.]\n",
      " [  0.   0.   0.   0.   0.   0.   0.   0.   0.  24. 156. 253. 253. 253.\n",
      "  253. 240. 240. 253. 253. 253. 213.  17.   0.   0.   0.   0.   0.   0.]\n",
      " [  0.   0.   0.   0.   0.   0.   0.   0.   2. 159. 253. 253. 253. 253.\n",
      "  248.  61.  29. 141. 249. 253. 253. 104.   0.   0.   0.   0.   0.   0.]\n",
      " [  0.   0.   0.   0.   0.   0.   0.   2. 109. 253. 253. 253. 253. 253.\n",
      "  182.   0.   0.   0. 120. 248. 253. 215.  30.   0.   0.   0.   0.   0.]\n",
      " [  0.   0.   0.   0.   0.   0.   0.  13. 253. 253. 253. 253. 253. 253.\n",
      "   74.   0.   0.   0.   0. 193. 253. 253. 163.   3.   0.   0.   0.   0.]\n",
      " [  0.   0.   0.   0.   0.   0.   0.  13. 253. 253. 253. 253. 253. 220.\n",
      "   25.   0.   0.   0.   0.  73. 247. 253. 253.  39.   0.   0.   0.   0.]\n",
      " [  0.   0.   0.   0.   0.   0.   0.   4. 153. 253. 253. 253. 253. 179.\n",
      "    0.   0.   0.   0.   0.   0. 132. 253. 253. 141.   0.   0.   0.   0.]\n",
      " [  0.   0.   0.   0.   0.   0.   0.   0.  10. 202. 253. 253. 253. 168.\n",
      "    0.   0.   0.   0.   0.   0.  94. 253. 253. 141.   0.   0.   0.   0.]\n",
      " [  0.   0.   0.   0.   0.   0.   0.   0. 111. 253. 253. 253. 253. 216.\n",
      "   18.   0.   0.   0.   0.   0.  25. 231. 253. 224.   9.   0.   0.   0.]\n",
      " [  0.   0.   0.   0.   0.   0.   0.   4. 172. 253. 253. 253. 253. 253.\n",
      "   74.   0.   0.   0.   0.   0.   0. 223. 253. 253.  12.   0.   0.   0.]\n",
      " [  0.   0.   0.   0.   0.   0.   0.  13. 253. 253. 253. 253. 253. 239.\n",
      "   52.   0.   0.   0.   0.   0.  74. 247. 253. 165.   3.   0.   0.   0.]\n",
      " [  0.   0.   0.   0.   0.   0.   0.  53. 253. 253. 253. 253. 253. 204.\n",
      "    0.   0.   0.   0.   0.  28. 205. 253. 253.  42.   0.   0.   0.   0.]\n",
      " [  0.   0.   0.   0.   0.   0.   0. 136. 253. 253. 243. 222. 196.  74.\n",
      "    0.   0.   0.   0.  28. 144. 253. 253. 165.   3.   0.   0.   0.   0.]\n",
      " [  0.   0.   0.   0.   0.   0.   0. 136. 253. 253. 176.  23.  13.   0.\n",
      "    0.   0.   0.  28. 205. 253. 253. 217.  33.   0.   0.   0.   0.   0.]\n",
      " [  0.   0.   0.   0.   0.   0.   0. 136. 253. 253.  99.   0.   0.   0.\n",
      "    0.   0. 110. 232. 253. 253. 253.  45.   0.   0.   0.   0.   0.   0.]\n",
      " [  0.   0.   0.   0.   0.   0.   0. 136. 253. 253. 224. 106. 106. 130.\n",
      "  169. 230. 248. 253. 253. 217. 103.   3.   0.   0.   0.   0.   0.   0.]\n",
      " [  0.   0.   0.   0.   0.   0.   0.  16. 204. 253. 253. 253. 253. 253.\n",
      "  253. 253. 253. 253. 218.  94.   0.   0.   0.   0.   0.   0.   0.   0.]\n",
      " [  0.   0.   0.   0.   0.   0.   0.   0.  16. 205. 253. 253. 253. 253.\n",
      "  253. 253. 253. 253.  55.   0.   0.   0.   0.   0.   0.   0.   0.   0.]\n",
      " [  0.   0.   0.   0.   0.   0.   0.   0.   0.  16. 144. 253. 253. 253.\n",
      "  165. 129.  96.   5.   1.   0.   0.   0.   0.   0.   0.   0.   0.   0.]\n",
      " [  0.   0.   0.   0.   0.   0.   0.   0.   0.   0.   0.   0.   0.   0.\n",
      "    0.   0.   0.   0.   0.   0.   0.   0.   0.   0.   0.   0.   0.   0.]\n",
      " [  0.   0.   0.   0.   0.   0.   0.   0.   0.   0.   0.   0.   0.   0.\n",
      "    0.   0.   0.   0.   0.   0.   0.   0.   0.   0.   0.   0.   0.   0.]\n",
      " [  0.   0.   0.   0.   0.   0.   0.   0.   0.   0.   0.   0.   0.   0.\n",
      "    0.   0.   0.   0.   0.   0.   0.   0.   0.   0.   0.   0.   0.   0.]\n",
      " [  0.   0.   0.   0.   0.   0.   0.   0.   0.   0.   0.   0.   0.   0.\n",
      "    0.   0.   0.   0.   0.   0.   0.   0.   0.   0.   0.   0.   0.   0.]] [0. 5. 7. 1. 9. 6. 6. 4. 8. 3. 7. 3. 1. 9. 8. 6. 3. 8. 4. 8. 0. 9. 7. 5.\n",
      " 0. 8. 9. 7. 7. 5. 4. 9. 1. 2. 9. 8. 2. 8. 6. 8. 3. 8. 1. 4. 6. 7. 4. 5.\n",
      " 7. 5. 2. 7. 9. 6. 6. 4. 0. 3. 6. 3. 1. 4. 2. 5. 6. 7. 1. 3. 0. 0. 2. 0.\n",
      " 2. 4. 4. 9. 9. 5. 3. 0. 1. 2. 0. 2. 5. 3. 2. 9. 1. 1. 1. 6. 7. 0. 8. 4.\n",
      " 2. 5. 5. 3.]\n"
     ]
    }
   ],
   "source": [
    "X, Y = sample_mnist(10)\n",
    "print(X[0], Y)"
   ]
  },
  {
   "cell_type": "code",
   "execution_count": 36,
   "id": "7cb422c2",
   "metadata": {},
   "outputs": [],
   "source": [
    "X_subset, Y_subset = sample_mnist(100)\n",
    "with open('./data/mnist_train_100.npz', 'wb+') as data_file:\n",
    "    np.savez(data_file, X=X_subset, Y=Y_subset)"
   ]
  },
  {
   "cell_type": "code",
   "execution_count": 37,
   "id": "d63af1cd",
   "metadata": {},
   "outputs": [],
   "source": [
    "X_subset, Y_subset = sample_mnist(300)\n",
    "with open('./data/mnist_train_300.npz', 'wb+') as data_file:\n",
    "    np.savez(data_file, X=X_subset, Y=Y_subset)"
   ]
  },
  {
   "cell_type": "code",
   "execution_count": 38,
   "id": "dc8a1340",
   "metadata": {},
   "outputs": [],
   "source": [
    "X_subset, Y_subset = sample_mnist(500)\n",
    "with open('./data/mnist_train_500.npz', 'wb+') as data_file:\n",
    "    np.savez(data_file, X=X_subset, Y=Y_subset)"
   ]
  },
  {
   "cell_type": "code",
   "execution_count": 39,
   "id": "50ff83ce",
   "metadata": {},
   "outputs": [],
   "source": [
    "X_subset, Y_subset = sample_mnist(1000)\n",
    "with open('./data/mnist_train_1000.npz', 'wb+') as data_file:\n",
    "    np.savez(data_file, X=X_subset, Y=Y_subset)"
   ]
  },
  {
   "cell_type": "code",
   "execution_count": 40,
   "id": "c788a4c8",
   "metadata": {},
   "outputs": [],
   "source": [
    "X_subset, Y_subset = sample_mnist(2500)\n",
    "with open('./data/mnist_train_2500.npz', 'wb+') as data_file:\n",
    "    np.savez(data_file, X=X_subset, Y=Y_subset)"
   ]
  },
  {
   "cell_type": "code",
   "execution_count": 42,
   "id": "5bb5c98b",
   "metadata": {},
   "outputs": [],
   "source": [
    "X = np.zeros((10000, 28, 28))\n",
    "Y = np.zeros((10000))\n",
    "\n",
    "for idx, data in enumerate(mnist_test):\n",
    "    x_raw, y_raw = data\n",
    "    X[idx] = np.array(x_raw)\n",
    "    Y[idx] = y_raw\n",
    "\n",
    "idx_arr = np.arange(X.shape[0])\n",
    "np.random.shuffle(idx_arr)\n",
    "X_shuffle = X[idx_arr]\n",
    "Y_shuffle = Y[idx_arr]\n",
    "\n",
    "with open('./data/mnist_test.npz', 'wb+') as data_file:\n",
    "    np.savez(data_file, X=X_shuffle, Y=Y_shuffle)"
   ]
  },
  {
   "cell_type": "code",
   "execution_count": 43,
   "id": "6c662a1b",
   "metadata": {},
   "outputs": [],
   "source": [
    "X = np.zeros((50000, 28, 28))\n",
    "Y = np.zeros((50000))\n",
    "\n",
    "for idx, data in enumerate(mnist_train):\n",
    "    x_raw, y_raw = data\n",
    "    X[idx] = np.array(x_raw)\n",
    "    Y[idx] = y_raw\n",
    "\n",
    "idx_arr = np.arange(X.shape[0])\n",
    "np.random.shuffle(idx_arr)\n",
    "X_shuffle = X[idx_arr]\n",
    "Y_shuffle = Y[idx_arr]\n",
    "\n",
    "with open('./data/mnist_train_full.npz', 'wb+') as data_file:\n",
    "    np.savez(data_file, X=X_shuffle, Y=Y_shuffle)"
   ]
  },
  {
   "cell_type": "code",
   "execution_count": 8,
   "id": "1488fddd",
   "metadata": {},
   "outputs": [
    {
     "name": "stdout",
     "output_type": "stream",
     "text": [
      "torch.Size([1000, 28, 28]) torch.Size([1000])\n"
     ]
    }
   ],
   "source": [
    "from data import load_mnist\n",
    "\n",
    "X, Y = load_mnist(100)\n",
    "print(X.shape, Y.shape)"
   ]
  },
  {
   "cell_type": "code",
   "execution_count": 4,
   "id": "35d110d6",
   "metadata": {},
   "outputs": [
    {
     "name": "stdout",
     "output_type": "stream",
     "text": [
      "torch.Size([1000, 784]) torch.Size([1000])\n"
     ]
    }
   ],
   "source": [
    "X, Y = load_mnist(100, True)\n",
    "print(X.shape, Y.shape)"
   ]
  },
  {
   "cell_type": "code",
   "execution_count": 7,
   "id": "4512d3a7",
   "metadata": {},
   "outputs": [
    {
     "name": "stdout",
     "output_type": "stream",
     "text": [
      "torch.Size([50000, 28, 28]) torch.Size([50000])\n"
     ]
    }
   ],
   "source": [
    "X, Y = load_mnist(0, False)\n",
    "print(X.shape, Y.shape)"
   ]
  },
  {
   "cell_type": "code",
   "execution_count": null,
   "id": "1d4f381a",
   "metadata": {},
   "outputs": [],
   "source": []
  }
 ],
 "metadata": {
  "kernelspec": {
   "display_name": "Python 3 (ipykernel)",
   "language": "python",
   "name": "python3"
  },
  "language_info": {
   "codemirror_mode": {
    "name": "ipython",
    "version": 3
   },
   "file_extension": ".py",
   "mimetype": "text/x-python",
   "name": "python",
   "nbconvert_exporter": "python",
   "pygments_lexer": "ipython3",
   "version": "3.10.4"
  }
 },
 "nbformat": 4,
 "nbformat_minor": 5
}
